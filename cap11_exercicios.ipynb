{
 "cells": [
  {
   "cell_type": "markdown",
   "metadata": {},
   "source": [
    "# Capítulo 11 - Exercícios"
   ]
  },
  {
   "cell_type": "markdown",
   "metadata": {},
   "source": [
    "Comprova que tuplas não são hasháveis ao utilizar uma tupla com uma lista dentro dela como chave em um dicionário"
   ]
  },
  {
   "cell_type": "code",
   "execution_count": null,
   "metadata": {},
   "outputs": [],
   "source": [
    "t = ([1,2,3], [4,5,6])\n",
    "\n",
    "d = {t: 0}"
   ]
  },
  {
   "cell_type": "markdown",
   "metadata": {},
   "source": [
    "Use o tabela hash abaixo para criar a função shift_word com 2 parâmetros: um int e uma string. A função deve alterar o valor de cada caracter da string de acordo com o int proposto, criando uma nova string com a criptografia Crifra de César"
   ]
  },
  {
   "cell_type": "code",
   "execution_count": null,
   "metadata": {},
   "outputs": [
    {
     "data": {
      "text/plain": [
       "'ebojfm'"
      ]
     },
     "execution_count": 21,
     "metadata": {},
     "output_type": "execute_result"
    }
   ],
   "source": [
    "'''\n",
    "Cria uma tabela hash chamada com nome letter_map\n",
    "Chave: caractere em letters\n",
    "Valor: 0-25\n",
    "\n",
    "letters = \"abcdefghijklmnopqrstuvwxyz\"\n",
    "numbers = range(len(letters))\n",
    "letter_map = dict(zip(letters, numbers))\n",
    "'''\n",
    "\n",
    "\n",
    "def shift_word(s, n):\n",
    "    '''\n",
    "    Criptografa a string com a Cifra de César\n",
    "    >>> shift_word(\"daniel\", 1)\n",
    "    \"ebmlfj\"\n",
    "    >>> shift_word(\"zebra\", 1)\n",
    "    \"afcsb\"\n",
    "    '''\n",
    "    # gera hash-table (char : int)\n",
    "    letters = \"abcdefghijklmnopqrstuvwxyz\"\n",
    "    numbers = range(len(letters))\n",
    "    letter_map = dict(zip(letters, numbers))\n",
    "    \n",
    "    # nova string\n",
    "    new_s = ''\n",
    "\n",
    "    # pega cada caractere na string\n",
    "    for char in s:\n",
    "        # encontrar chave-valor referente a char\n",
    "        for key, value in letter_map.items():\n",
    "            if char == key:\n",
    "                index = find_value(value, n)\n",
    "                new_char = letters[index]\n",
    "        # contatena char em nova string\n",
    "        new_s += new_char\n",
    "    # depois de codificar cada caractere, retorne\n",
    "    return new_s       \n",
    "        \n",
    "\n",
    "# função calcula novo \"índice\"\n",
    "def find_value(value, n):\n",
    "    value += n\n",
    "    if value > 25:\n",
    "        return value - 26\n",
    "    return value\n",
    "\n",
    "\n",
    "shift_word(\"daniel\", 1)"
   ]
  },
  {
   "cell_type": "markdown",
   "metadata": {},
   "source": [
    "Escreva função most_frequent_letters que receba uma string e exiba as letras em ordem decrescente de frequência"
   ]
  },
  {
   "cell_type": "code",
   "execution_count": 27,
   "metadata": {},
   "outputs": [
    {
     "data": {
      "text/plain": [
       "{2: ['d', 'a', 'n'], 1: ['j', 'o', 'r']}"
      ]
     },
     "execution_count": 27,
     "metadata": {},
     "output_type": "execute_result"
    }
   ],
   "source": [
    "def most_frequent_letters(s):\n",
    "    '''\n",
    "    Função que exiba ordem drescente de frequência de letras\n",
    "    s: string\n",
    "    output: dicionário ordenado em ordem decrescente de acordo com valor\n",
    "    '''\n",
    "    # compõe dicionário\n",
    "    counter = {}\n",
    "    for char in s:\n",
    "        counter[char] = counter.get(char, 0) + 1\n",
    "    \n",
    "    # criar dicionário {repetição: [strings]}\n",
    "    d = {}\n",
    "    for key, value in counter.items():\n",
    "        if value not in d:\n",
    "            d[value] = [key]\n",
    "        else:\n",
    "            d[value].append(key)\n",
    "\n",
    "    # sort dictionary in descending order\n",
    "    sorted_keys = sorted(d, reverse=True)\n",
    "    sorted_d = {}\n",
    "    for key in sorted_keys:\n",
    "        sorted_d[key] = d[key]\n",
    "    # return inverted dictionary\n",
    "    return sorted_d\n",
    "\n",
    "\n",
    "most_frequent_letters(\"jordandan\")"
   ]
  },
  {
   "cell_type": "markdown",
   "metadata": {},
   "source": [
    "Programa que recebe uma lista de palavras e exibe todo o conjunto de palavras que são anagramas"
   ]
  },
  {
   "cell_type": "code",
   "execution_count": null,
   "metadata": {},
   "outputs": [],
   "source": [
    "import requests\n",
    "\n",
    "\n",
    "# download from url and create list with words that will be the reference\n",
    "def get_words_list(url):\n",
    "    response = requests.get(url)\n",
    "    word_list = response.text.splitlines()\n",
    "    return word_list\n",
    "\n",
    "\n",
    "url = \"https://raw.githubusercontent.com/AllenDowney/ThinkPython/v3/words.txt\"\n",
    "word_list = get_words_list(url)"
   ]
  },
  {
   "cell_type": "code",
   "execution_count": null,
   "metadata": {},
   "outputs": [],
   "source": [
    "def sort_word(word):\n",
    "    '''Ordena as letras de uma palavra em ordem alfabética'''\n",
    "    return ''.join(sorted(word))\n",
    "\n",
    "\n",
    "def get_anagrams(word_list):\n",
    "    '''\n",
    "    Armazena em dict palavras que são anagramas\n",
    "    Chave: string das letras que formam a palavra em ordem alfabética\n",
    "    Valor: lista de palavras que contem as mesmas letras\n",
    "    word_list: lista de palavras\n",
    "    return: anagrams_dict\n",
    "    '''\n",
    "    anagrams_dict = {}\n",
    "\n",
    "    # verifica cada palavra na lista\n",
    "    for word in word_list:\n",
    "        # consiga chave com caracteres ordenados\n",
    "        key = sort_word(word)\n",
    "\n",
    "        # se chave não está no dicionário, adicione-a com o valor\n",
    "        if key not in anagrams_dict:\n",
    "            anagrams_dict[key] = [word]\n",
    "        # se chave já está no dicionário, adicione apenas o valor\n",
    "        else:\n",
    "            anagrams_dict[key].append(word)\n",
    "    \n",
    "    return anagrams_dict"
   ]
  },
  {
   "cell_type": "markdown",
   "metadata": {},
   "source": [
    "Escreva função chamada word_distance que receba duas palavras de mesmo comprimento e retorne o número de posições em que as duas palavras diferem.\n",
    "\n",
    "Dica: utilize \"zip\" para iterar pelas letras correspondentes das palavras"
   ]
  },
  {
   "cell_type": "code",
   "execution_count": null,
   "metadata": {},
   "outputs": [
    {
     "data": {
      "text/plain": [
       "1"
      ]
     },
     "execution_count": 15,
     "metadata": {},
     "output_type": "execute_result"
    }
   ],
   "source": [
    "import sys\n",
    "\n",
    "\n",
    "def words_distance(word1, word2):\n",
    "    \"\"\"\n",
    "    Calcula número de posições que duas strings diferem\n",
    "\n",
    "    >>> word_distance(\"daniel\", \"danieu\")\n",
    "    1\n",
    "    >>> word_distance(\"jordan\", \"jorela\")\n",
    "    2\n",
    "    \"\"\"\n",
    "    # as duas palabas devem ter mesmo comprimento\n",
    "    if len(word1) != len(word2):\n",
    "        sys.exit(\"As palavras devem ter o mesmo comprimento\")\n",
    "\n",
    "    # conta letras diferentes por posição\n",
    "    count = 0\n",
    "    for c1, c2 in zip(word1, word2):\n",
    "        if c1 != c2:\n",
    "            count += 1\n",
    "\n",
    "    return count"
   ]
  },
  {
   "cell_type": "markdown",
   "metadata": {},
   "source": [
    "Escreva um programa que encontre todos os pares de metátese em uma lista de palavras.\n",
    "\n",
    "Dica: palavras em pares de metátese devem ser anagramas uma das outras\n",
    "\n",
    "Resolução no arquivo \"get_methatesis.py\" na pasta cap11_respostas"
   ]
  }
 ],
 "metadata": {
  "kernelspec": {
   "display_name": "base",
   "language": "python",
   "name": "python3"
  },
  "language_info": {
   "codemirror_mode": {
    "name": "ipython",
    "version": 3
   },
   "file_extension": ".py",
   "mimetype": "text/x-python",
   "name": "python",
   "nbconvert_exporter": "python",
   "pygments_lexer": "ipython3",
   "version": "3.12.7"
  }
 },
 "nbformat": 4,
 "nbformat_minor": 2
}
