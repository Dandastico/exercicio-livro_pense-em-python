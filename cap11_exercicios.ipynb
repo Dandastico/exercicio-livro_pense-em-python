{
 "cells": [
  {
   "cell_type": "markdown",
   "metadata": {},
   "source": [
    "# Capítulo 11 - Exercícios"
   ]
  },
  {
   "cell_type": "markdown",
   "metadata": {},
   "source": [
    "Comprova que tuplas não são hasháveis ao utilizar uma tupla com uma lista dentro dela como chave em um dicionário"
   ]
  },
  {
   "cell_type": "code",
   "execution_count": null,
   "metadata": {},
   "outputs": [],
   "source": [
    "t = ([1,2,3], [4,5,6])\n",
    "\n",
    "d = {t: 0}"
   ]
  },
  {
   "cell_type": "markdown",
   "metadata": {},
   "source": [
    "Use o tabela hash abaixo para criar a função shift_word com 2 parâmetros: um int e uma string. A função deve alterar o valor de cada caracter da string de acordo com o int proposto, criando uma nova string com a criptografia Crifra de César"
   ]
  },
  {
   "cell_type": "code",
   "execution_count": null,
   "metadata": {},
   "outputs": [
    {
     "name": "stdout",
     "output_type": "stream",
     "text": [
      "{'a': 0, 'b': 1, 'c': 2, 'd': 3, 'e': 4, 'f': 5, 'g': 6, 'h': 7, 'i': 8, 'j': 9, 'k': 10, 'l': 11, 'm': 12, 'n': 13, 'o': 14, 'p': 15, 'q': 16, 'r': 17, 's': 18, 't': 19, 'u': 20, 'v': 21, 'w': 22, 'x': 23, 'y': 24, 'z': 25}\n"
     ]
    }
   ],
   "source": [
    "'''\n",
    "Cria uma tabela hash chamada com nome letter_map\n",
    "Chave: caractere em letters\n",
    "Valor: 0-25\n",
    "\n",
    "letters = \"abcdefghijklmnopqrstuvwxyz\"\n",
    "numbers = range(len(letters))\n",
    "letter_map = dict(zip(letters, numbers))\n",
    "'''\n",
    "\n",
    "\n",
    "def shift_word(s, n):\n",
    "    '''\n",
    "    Criptografa a string com a Cifra de César\n",
    "    >>> shift_word(\"daniel\", 1)\n",
    "    \"ebmlfj\"\n",
    "    >>> shift_word(\"zebra\", 1)\n",
    "    \"afcsb\"\n",
    "    '''\n",
    "    # gera hash-table (char : int)\n",
    "    letters = \"abcdefghijklmnopqrstuvwxyz\"\n",
    "    numbers = range(len(letters))\n",
    "    letter_map = dict(zip(letters, numbers))\n",
    "    \n",
    "    # nova string\n",
    "    new_s = ''\n",
    "\n",
    "    # pega cada caractere na string\n",
    "    for char in s:\n",
    "        # encontrar chave-valor referente a char\n",
    "        for key, value in letter_map.items():\n",
    "            if char == key:\n",
    "                value = find_value(value, n)\n",
    "        \n",
    "\n",
    "\n",
    "\n",
    "\n",
    "def find_value(value, n):\n",
    "    value += n\n",
    "    if value > 25:\n",
    "        return value - 25\n",
    "    return value\n",
    "                "
   ]
  },
  {
   "cell_type": "code",
   "execution_count": 12,
   "metadata": {},
   "outputs": [
    {
     "data": {
      "text/plain": [
       "1"
      ]
     },
     "execution_count": 12,
     "metadata": {},
     "output_type": "execute_result"
    }
   ],
   "source": [
    "def find_value(value, n):\n",
    "    value += n\n",
    "    if value > 25:\n",
    "        return value - 25\n",
    "    return value\n",
    "\n",
    "\n",
    "find_value(22, 4)"
   ]
  },
  {
   "cell_type": "code",
   "execution_count": null,
   "metadata": {},
   "outputs": [],
   "source": []
  }
 ],
 "metadata": {
  "kernelspec": {
   "display_name": "Python 3",
   "language": "python",
   "name": "python3"
  },
  "language_info": {
   "codemirror_mode": {
    "name": "ipython",
    "version": 3
   },
   "file_extension": ".py",
   "mimetype": "text/x-python",
   "name": "python",
   "nbconvert_exporter": "python",
   "pygments_lexer": "ipython3",
   "version": "3.12.5"
  }
 },
 "nbformat": 4,
 "nbformat_minor": 2
}
