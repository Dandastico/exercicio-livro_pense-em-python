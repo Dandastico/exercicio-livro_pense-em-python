{
 "cells": [
  {
   "cell_type": "markdown",
   "metadata": {},
   "source": [
    "# Capítulo 11 - Exercícios"
   ]
  },
  {
   "cell_type": "markdown",
   "metadata": {},
   "source": [
    "Comprova que tuplas não são hasháveis ao utilizar uma tupla com uma lista dentro dela como chave em um dicionário"
   ]
  },
  {
   "cell_type": "code",
   "execution_count": null,
   "metadata": {},
   "outputs": [],
   "source": [
    "t = ([1,2,3], [4,5,6])\n",
    "\n",
    "d = {t: 0}"
   ]
  },
  {
   "cell_type": "markdown",
   "metadata": {},
   "source": [
    "Use o tabela hash abaixo para criar a função shift_word com 2 parâmetros: um int e uma string. A função deve alterar o valor de cada caracter da string de acordo com o int proposto, criando uma nova string com a criptografia Crifra de César"
   ]
  },
  {
   "cell_type": "code",
   "execution_count": null,
   "metadata": {},
   "outputs": [
    {
     "data": {
      "text/plain": [
       "'ebojfm'"
      ]
     },
     "execution_count": 21,
     "metadata": {},
     "output_type": "execute_result"
    }
   ],
   "source": [
    "'''\n",
    "Cria uma tabela hash chamada com nome letter_map\n",
    "Chave: caractere em letters\n",
    "Valor: 0-25\n",
    "\n",
    "letters = \"abcdefghijklmnopqrstuvwxyz\"\n",
    "numbers = range(len(letters))\n",
    "letter_map = dict(zip(letters, numbers))\n",
    "'''\n",
    "\n",
    "\n",
    "def shift_word(s, n):\n",
    "    '''\n",
    "    Criptografa a string com a Cifra de César\n",
    "    >>> shift_word(\"daniel\", 1)\n",
    "    \"ebmlfj\"\n",
    "    >>> shift_word(\"zebra\", 1)\n",
    "    \"afcsb\"\n",
    "    '''\n",
    "    # gera hash-table (char : int)\n",
    "    letters = \"abcdefghijklmnopqrstuvwxyz\"\n",
    "    numbers = range(len(letters))\n",
    "    letter_map = dict(zip(letters, numbers))\n",
    "    \n",
    "    # nova string\n",
    "    new_s = ''\n",
    "\n",
    "    # pega cada caractere na string\n",
    "    for char in s:\n",
    "        # encontrar chave-valor referente a char\n",
    "        for key, value in letter_map.items():\n",
    "            if char == key:\n",
    "                index = find_value(value, n)\n",
    "                new_char = letters[index]\n",
    "        # contatena char em nova string\n",
    "        new_s += new_char\n",
    "    # depois de codificar cada caractere, retorne\n",
    "    return new_s       \n",
    "        \n",
    "\n",
    "# função calcula novo \"índice\"\n",
    "def find_value(value, n):\n",
    "    value += n\n",
    "    if value > 25:\n",
    "        return value - 26\n",
    "    return value\n",
    "\n",
    "\n",
    "shift_word(\"daniel\", 1)"
   ]
  },
  {
   "cell_type": "markdown",
   "metadata": {},
   "source": [
    "Escreva função most_frequent_letters que receba uma string e exiba as letras em ordem decrescente de frequência"
   ]
  },
  {
   "cell_type": "code",
   "execution_count": null,
   "metadata": {},
   "outputs": [
    {
     "data": {
      "text/plain": [
       "{1: ['j', 'o', 'r'], 2: ['d', 'a', 'n']}"
      ]
     },
     "execution_count": 26,
     "metadata": {},
     "output_type": "execute_result"
    }
   ],
   "source": [
    "def most_frequent_letters(s):\n",
    "    '''\n",
    "    Função que exiba ordem drescente de frequência de letras\n",
    "    s: string\n",
    "    output: dicionário ordenado em ordem decrescente de acordo com valor\n",
    "    '''\n",
    "    # compõe dicionário\n",
    "    counter = {}\n",
    "    for char in s:\n",
    "        counter[char] = counter.get(char, 0) + 1\n",
    "    \n",
    "    # criar dicionário {repetição: [strings]}\n",
    "    d = {}\n",
    "    for key, value in counter.items():\n",
    "        if value not in d:\n",
    "            d[value] = [key]\n",
    "        else:\n",
    "            d[value].append(key)\n",
    "\n",
    "    # sort dictionary in descending order\n",
    "    sorted_keys = sorted(d, reverse=True)\n",
    "    sorted_d = {}\n",
    "    for key in sorted_keys:\n",
    "        sorted_d[key] = d[key]\n",
    "    # return inverted dictionary\n",
    "    return sorted_d\n",
    "\n",
    "\n",
    "most_frequent_letters(\"jordandan\")"
   ]
  },
  {
   "cell_type": "code",
   "execution_count": null,
   "metadata": {},
   "outputs": [],
   "source": []
  }
 ],
 "metadata": {
  "kernelspec": {
   "display_name": "Python 3",
   "language": "python",
   "name": "python3"
  },
  "language_info": {
   "codemirror_mode": {
    "name": "ipython",
    "version": 3
   },
   "file_extension": ".py",
   "mimetype": "text/x-python",
   "name": "python",
   "nbconvert_exporter": "python",
   "pygments_lexer": "ipython3",
   "version": "3.12.5"
  }
 },
 "nbformat": 4,
 "nbformat_minor": 2
}
