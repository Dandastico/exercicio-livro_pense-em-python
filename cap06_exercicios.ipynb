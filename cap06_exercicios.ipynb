{
 "cells": [
  {
   "cell_type": "markdown",
   "metadata": {},
   "source": [
    "# Capitílo 07 - Exercícios"
   ]
  },
  {
   "cell_type": "markdown",
   "metadata": {},
   "source": [
    "Utilizando o desenvolvimento incremental, crie uma função que calcule a hipotenusa de um triângulo retângulo dado os comprimentos dos outros dois lados como argumentos"
   ]
  },
  {
   "cell_type": "code",
   "execution_count": null,
   "metadata": {},
   "outputs": [],
   "source": [
    "def hipotenusa(x, y):   \n",
    "    return 0\n",
    "\n",
    "hipotenusa(3, 4)"
   ]
  },
  {
   "cell_type": "code",
   "execution_count": null,
   "metadata": {},
   "outputs": [],
   "source": [
    "def hipotenusa(x, y):\n",
    "    \"\"\"\n",
    "    Função recebe dois valores numéricos.\n",
    "    Calcula a hipotenusa usa a fórmula de Pitágoras:\n",
    "    z² = x² + y²\n",
    "    \"\"\"\n",
    "    xx = x * x\n",
    "    print(xx)\n",
    "    yy = y * y\n",
    "    print(yy)\n",
    "    zz = xx + yy\n",
    "    print(zz)\n",
    "    return 0\n",
    "\n",
    "hipotenusa(3, 4)"
   ]
  },
  {
   "cell_type": "code",
   "execution_count": null,
   "metadata": {},
   "outputs": [],
   "source": [
    "import math\n",
    "\n",
    "def hipotenusa(x, y):\n",
    "    \"\"\"\n",
    "    Função recebe dois valores numéricos.\n",
    "    Calcula a hipotenusa usa a fórmula de Pitágoras:\n",
    "    z² = x² + y²\n",
    "    \"\"\"\n",
    "    xx = x * x\n",
    "    yy = y * y\n",
    "    zz = xx + yy    # cáculo ha hipotenusa ao quadrado\n",
    "\n",
    "    z = math.sqrt(zz)\n",
    "\n",
    "    return 0\n",
    "\n",
    "\n",
    "hipotenusa(3, 4)"
   ]
  },
  {
   "cell_type": "code",
   "execution_count": null,
   "metadata": {},
   "outputs": [
    {
     "data": {
      "text/plain": [
       "5.0"
      ]
     },
     "execution_count": 5,
     "metadata": {},
     "output_type": "execute_result"
    }
   ],
   "source": [
    "import math\n",
    "\n",
    "def hipotenusa(x, y):\n",
    "    \"\"\"\n",
    "    Função recebe dois valores numéricos.\n",
    "    Calcula a hipotenusa usa a fórmula de Pitágoras:\n",
    "    z² = x² + y²\n",
    "    \"\"\"\n",
    "    xx, yy = x*x, y*y\n",
    "    zz = xx + yy        # cáculo ha hipotenusa ao quadrado\n",
    "\n",
    "    math.sqrt(zz)\n",
    "\n",
    "    return math.sqrt(zz)\n",
    "\n",
    "\n",
    "hipotenusa(3, 4)"
   ]
  },
  {
   "cell_type": "markdown",
   "metadata": {},
   "source": [
    "Desenvolva uma função com 3 parâmetros: x, y e z. A função retorna True se x < y < z ou se z < y < x, caso contrário retorna False"
   ]
  },
  {
   "cell_type": "code",
   "execution_count": null,
   "metadata": {},
   "outputs": [],
   "source": [
    "def funcao(x, y, z):\n",
    "    if (x < y < z) or (z < y < x):\n",
    "        return True\n",
    "    else:\n",
    "        return False"
   ]
  },
  {
   "cell_type": "markdown",
   "metadata": {},
   "source": [
    "Escrever função ackermman() que avalie a função de Ackerman"
   ]
  },
  {
   "cell_type": "code",
   "execution_count": null,
   "metadata": {},
   "outputs": [
    {
     "name": "stdout",
     "output_type": "stream",
     "text": [
      "9\n"
     ]
    }
   ],
   "source": [
    "def ackermman(m, n):\n",
    "    if m == 0:      # caso-base\n",
    "        return n + 1\n",
    "    elif m > 0 and n == 0:\n",
    "        return ackermman(m-1, 1)\n",
    "    else:\n",
    "        return ackermman(m-1, ackermman(m, n-1))\n",
    "    \n",
    "\n",
    "try:\n",
    "    valor = ackermman(2,3)\n",
    "    print(valor)\n",
    "except RecursionError:\n",
    "    print(\"Não parou de crescer nunca!\")"
   ]
  },
  {
   "cell_type": "markdown",
   "metadata": {},
   "source": [
    "Desenvolva uma função para calcular o maior divisor comum de um número"
   ]
  },
  {
   "cell_type": "code",
   "execution_count": null,
   "metadata": {},
   "outputs": [],
   "source": [
    "def mdc(a, b):\n",
    "    \"\"\"\n",
    "    Função recursiva\n",
    "    Caso-base: se b for 0, retorne a\n",
    "    Encontre resto da operação a/b, chame mdc(b, resto)\n",
    "    \"\"\"\n",
    "    # caso-base\n",
    "    if b == 0:\n",
    "        return a\n",
    "    # calcula resto de b/a\n",
    "    r = b % a\n",
    "    return mdc(b, r)\n",
    "\n",
    "\n",
    "mdc(20,5)"
   ]
  }
 ],
 "metadata": {
  "kernelspec": {
   "display_name": "Python 3",
   "language": "python",
   "name": "python3"
  },
  "language_info": {
   "codemirror_mode": {
    "name": "ipython",
    "version": 3
   },
   "file_extension": ".py",
   "mimetype": "text/x-python",
   "name": "python",
   "nbconvert_exporter": "python",
   "pygments_lexer": "ipython3",
   "version": "3.12.5"
  }
 },
 "nbformat": 4,
 "nbformat_minor": 2
}
