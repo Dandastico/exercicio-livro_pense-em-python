{
 "cells": [
  {
   "cell_type": "markdown",
   "metadata": {},
   "source": [
    "# Cpítulo 03 - Exercícios"
   ]
  },
  {
   "cell_type": "markdown",
   "metadata": {},
   "source": [
    "Escreva função print_right que recebe uma string como parâmetro. A função exibirá na tela a string forma que o seu último caractere esteja na 40ª coluna no terminal"
   ]
  },
  {
   "cell_type": "code",
   "execution_count": null,
   "metadata": {},
   "outputs": [],
   "source": [
    "def print_right(string):\n",
    "    num_espaço = 40 - len(string)\n",
    "    print((' ' * num_espaço) + string)\n",
    "\n",
    "print_right(\"Daniel\")\n",
    "print_right(\"Carolina Jordan\")"
   ]
  },
  {
   "cell_type": "markdown",
   "metadata": {},
   "source": [
    "Faça uma função que gere um triângulo retângulo repetindo um caractere. O ângulo retângulo deve ficar no ponto esquerdo inferior. A função deve ter como parâmetros o caractere que irá construir o triângulo e um número inteiro irá informar altura e largura do triângulo."
   ]
  },
  {
   "cell_type": "code",
   "execution_count": null,
   "metadata": {},
   "outputs": [],
   "source": [
    "def triangle(char, n):\n",
    "    for i in range(n):\n",
    "        print(char * (i + 1))\n",
    "\n",
    "\n",
    "triangle('z', 3)\n",
    "triangle('x', 5)\n",
    "triangle('i', 8)"
   ]
  }
 ],
 "metadata": {
  "kernelspec": {
   "display_name": "Python 3",
   "language": "python",
   "name": "python3"
  },
  "language_info": {
   "codemirror_mode": {
    "name": "ipython",
    "version": 3
   },
   "file_extension": ".py",
   "mimetype": "text/x-python",
   "name": "python",
   "nbconvert_exporter": "python",
   "pygments_lexer": "ipython3",
   "version": "3.12.5"
  }
 },
 "nbformat": 4,
 "nbformat_minor": 2
}
