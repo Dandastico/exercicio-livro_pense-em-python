{
 "cells": [
  {
   "cell_type": "markdown",
   "metadata": {},
   "source": [
    "# Capítulo 10 - Exercícios"
   ]
  },
  {
   "cell_type": "markdown",
   "metadata": {},
   "source": [
    "Utilize o método get() para construir uma versão mais concisa de value_counts escrito abaixo. Devo ser capaz de eliminar a instrução if\n",
    "\n",
    "def value_counts(string):\n",
    "<br>\n",
    "&nbsp;&nbsp;&nbsp;&nbsp;counter = {}\n",
    "    <br>\n",
    "&nbsp;&nbsp;&nbsp;&nbsp;for letter in string:\n",
    "    <br>\n",
    "&nbsp;&nbsp;&nbsp;&nbsp;&nbsp;&nbsp;&nbsp;&nbsp;if letter not in counter:\n",
    "        <br>\n",
    "&nbsp;&nbsp;&nbsp;&nbsp;&nbsp;&nbsp;&nbsp;&nbsp;&nbsp;&nbsp;&nbsp;&nbsp;counter[letter] = 1\n",
    "            <br>\n",
    "&nbsp;&nbsp;&nbsp;&nbsp;&nbsp;&nbsp;&nbsp;&nbsp;else:\n",
    "        <br>\n",
    "&nbsp;&nbsp;&nbsp;&nbsp;&nbsp;&nbsp;&nbsp;&nbsp;&nbsp;&nbsp;&nbsp;&nbsp;counter[letter] += 1\n",
    "            <br>\n",
    "&nbsp;&nbsp;&nbsp;&nbsp;return counter"
   ]
  },
  {
   "cell_type": "code",
   "execution_count": null,
   "metadata": {},
   "outputs": [],
   "source": [
    "def value_counts(s):\n",
    "    counter = {}\n",
    "    for char in s:\n",
    "        # if char isn't in dictionary, returns 0 and add 1, if it is add 1\n",
    "        counter[char] = counter.get(char, 0) +1\n",
    "    return counter\n",
    "\n",
    "value_counts(\"jordandan\")"
   ]
  },
  {
   "cell_type": "markdown",
   "metadata": {},
   "source": [
    "Crie uma função chamada has_duplicates que recebe uma sequência, sendo ela lista ou string, e retorne True se houver alguma palabra repetida na sequência"
   ]
  },
  {
   "cell_type": "code",
   "execution_count": null,
   "metadata": {},
   "outputs": [],
   "source": [
    "def has_duplicates(s):\n",
    "    '''\n",
    "    Retorna True se tiver palavras repetidas na sequência\n",
    "\n",
    "    >>> has_duplicates(\"Me chamo Daniel\")\n",
    "    False\n",
    "    >>> has_duplicates(\"Sou Daniel, sou seu amigo\")\n",
    "    True\n",
    "    >>> has_duplicates([1, 2, 3])\n",
    "    False\n",
    "    >>> has_duplicates([1, 1, 2, 3])\n",
    "    True\n",
    "    '''\n",
    "    words_seen = set()\n",
    "\n",
    "    # se a palavra da sequência estiver no \"set\", retorne False\n",
    "    for word in s:\n",
    "        if word in words_seen:\n",
    "            return True\n",
    "        words_seen.add(word)\n",
    "\n",
    "    # sobreviveu até aqui? Retorne False\n",
    "    return False\n",
    "\n",
    "has_duplicates(\"Sou Daniel Ferreira Alves, sou seu amigo\")"
   ]
  },
  {
   "cell_type": "markdown",
   "metadata": {},
   "source": [
    "Termine de escrever a função find_repeats que receba um dicionário que mapeie cada chave para um contador. Deve iterar sobre o dicionário e retornar uma lista de chaves que têm contagens maiores que 1."
   ]
  },
  {
   "cell_type": "code",
   "execution_count": null,
   "metadata": {},
   "outputs": [
    {
     "ename": "SyntaxError",
     "evalue": "invalid syntax (3180490903.py, line 18)",
     "output_type": "error",
     "traceback": [
      "\u001b[1;36m  Cell \u001b[1;32mIn[14], line 18\u001b[1;36m\u001b[0m\n\u001b[1;33m    find_repeats{\"jor\": 1, \"dan\" : 2}\u001b[0m\n\u001b[1;37m                ^\u001b[0m\n\u001b[1;31mSyntaxError\u001b[0m\u001b[1;31m:\u001b[0m invalid syntax\n"
     ]
    }
   ],
   "source": [
    "def find_repeats(counter):\n",
    "    '''\n",
    "    Cria uma lista de chaves com valores miores que 1\n",
    "    counter: dicionário que mapeia chaves para contagem\n",
    "    retorna: lista de chaves\n",
    "    '''\n",
    "    lista = []\n",
    "    # verifique cada chave-valor do dicionário\n",
    "    for key in counter:\n",
    "        # se valor relacionado à chave for maior que 1\n",
    "        if counter[key] > 1:\n",
    "            # adicione a chave ao dicionário\n",
    "            lista.append(key)\n",
    "    # retorne lista\n",
    "    return lista\n",
    "\n",
    "\n",
    "find_repeats({\"jor\": 1, \"dan\" : 2})"
   ]
  }
 ],
 "metadata": {
  "kernelspec": {
   "display_name": "Python 3",
   "language": "python",
   "name": "python3"
  },
  "language_info": {
   "codemirror_mode": {
    "name": "ipython",
    "version": 3
   },
   "file_extension": ".py",
   "mimetype": "text/x-python",
   "name": "python",
   "nbconvert_exporter": "python",
   "pygments_lexer": "ipython3",
   "version": "3.12.5"
  }
 },
 "nbformat": 4,
 "nbformat_minor": 2
}
