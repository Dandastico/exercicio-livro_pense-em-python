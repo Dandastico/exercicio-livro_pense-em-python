{
 "cells": [
  {
   "cell_type": "markdown",
   "metadata": {},
   "source": [
    "# Capítulo 10 - Exercícios"
   ]
  },
  {
   "cell_type": "markdown",
   "metadata": {},
   "source": [
    "Utilize o método get() para construir uma versão mais concisa de value_counts escrito abaixo. Devo ser capaz de eliminar a instrução if\n",
    "\n",
    "def value_counts(string):\n",
    "<br>\n",
    "&nbsp;&nbsp;&nbsp;&nbsp;counter = {}\n",
    "    <br>\n",
    "&nbsp;&nbsp;&nbsp;&nbsp;for letter in string:\n",
    "    <br>\n",
    "&nbsp;&nbsp;&nbsp;&nbsp;&nbsp;&nbsp;&nbsp;&nbsp;if letter not in counter:\n",
    "        <br>\n",
    "&nbsp;&nbsp;&nbsp;&nbsp;&nbsp;&nbsp;&nbsp;&nbsp;&nbsp;&nbsp;&nbsp;&nbsp;counter[letter] = 1\n",
    "            <br>\n",
    "&nbsp;&nbsp;&nbsp;&nbsp;&nbsp;&nbsp;&nbsp;&nbsp;else:\n",
    "        <br>\n",
    "&nbsp;&nbsp;&nbsp;&nbsp;&nbsp;&nbsp;&nbsp;&nbsp;&nbsp;&nbsp;&nbsp;&nbsp;counter[letter] += 1\n",
    "            <br>\n",
    "&nbsp;&nbsp;&nbsp;&nbsp;return counter"
   ]
  },
  {
   "cell_type": "code",
   "execution_count": null,
   "metadata": {},
   "outputs": [],
   "source": [
    "def value_counts(s):\n",
    "    counter = {}\n",
    "    for char in s:\n",
    "        # if char isn't in dictionary, returns 0 and add 1, if it is add 1\n",
    "        counter[char] = counter.get(char, 0) + 1\n",
    "    return counter\n",
    "\n",
    "value_counts(\"jordandan\")"
   ]
  },
  {
   "cell_type": "markdown",
   "metadata": {},
   "source": [
    "Crie uma função chamada has_duplicates que recebe uma sequência, sendo ela lista ou string, e retorne True se houver alguma palabra repetida na sequência"
   ]
  },
  {
   "cell_type": "code",
   "execution_count": null,
   "metadata": {},
   "outputs": [],
   "source": [
    "def has_duplicates(s):\n",
    "    '''\n",
    "    Retorna True se tiver palavras repetidas na sequência\n",
    "\n",
    "    >>> has_duplicates(\"Me chamo Daniel\")\n",
    "    False\n",
    "    >>> has_duplicates(\"Sou Daniel, sou seu amigo\")\n",
    "    True\n",
    "    >>> has_duplicates([1, 2, 3])\n",
    "    False\n",
    "    >>> has_duplicates([1, 1, 2, 3])\n",
    "    True\n",
    "    '''\n",
    "    words_seen = set()\n",
    "\n",
    "    # se a palavra da sequência estiver no \"set\", retorne False\n",
    "    for item in s:\n",
    "        if item in words_seen:\n",
    "            return True\n",
    "        words_seen.add(item)\n",
    "\n",
    "    # sobreviveu até aqui? Retorne False\n",
    "    return False\n",
    "\n",
    "has_duplicates(\"jordandan\")"
   ]
  },
  {
   "cell_type": "markdown",
   "metadata": {},
   "source": [
    "Termine de escrever a função find_repeats que receba um dicionário que mapeie cada chave para um contador. Deve iterar sobre o dicionário e retornar uma lista de chaves que têm contagens maiores que 1."
   ]
  },
  {
   "cell_type": "code",
   "execution_count": null,
   "metadata": {},
   "outputs": [],
   "source": [
    "def find_repeats(counter):\n",
    "    '''\n",
    "    Cria uma lista de chaves com valores miores que 1\n",
    "    counter: dicionário que mapeia chaves para contagem\n",
    "    retorna: lista de chaves\n",
    "    '''\n",
    "    lista = []\n",
    "    # verifique cada chave-valor do dicionário\n",
    "    for key in counter:\n",
    "        # se valor relacionado à chave for maior que 1\n",
    "        if counter[key] > 1:\n",
    "            # adicione a chave ao dicionário\n",
    "            lista.append(key)\n",
    "    # retorne lista\n",
    "    return lista\n",
    "\n",
    "\n",
    "find_repeats(value_counts(\"jordandan\"))"
   ]
  },
  {
   "cell_type": "markdown",
   "metadata": {},
   "source": [
    "Escreva uma função chamda add_counters que receba dois dicionários e retorne um dicionário que contenha todas as letras e o número todal de vezes que elas aparecem em cada uma das palavras"
   ]
  },
  {
   "cell_type": "markdown",
   "metadata": {},
   "source": []
  },
  {
   "cell_type": "code",
   "execution_count": 26,
   "metadata": {},
   "outputs": [
    {
     "data": {
      "text/plain": [
       "{'j': 1, 'o': 2, 'r': 2, 'd': 2, 'a': 3, 'n': 2, 'c': 1, 'l': 1}"
      ]
     },
     "execution_count": 26,
     "metadata": {},
     "output_type": "execute_result"
    }
   ],
   "source": [
    "counter1 = value_counts(\"jordandan\")\n",
    "counter2 = value_counts(\"carol\")\n",
    "\n",
    "def add_counters(counter1, counter2):\n",
    "    merged_counter = dict()\n",
    "    # checa cada valor-chave do primeiro dicionário\n",
    "    for key1 in counter1:\n",
    "        # se valor-chave não estiver no segundo dicionário\n",
    "        if key1 not in counter2:\n",
    "            merged_counter[key1] = counter1[key1]\n",
    "        # se estiver no dicionário\n",
    "        else:\n",
    "            merged_counter[key1] = counter1[key1] + counter2[key1]\n",
    "    \n",
    "    # checa o resto dos valores-chaves do segundo dicionário\n",
    "    for key2 in counter2:\n",
    "        if key2 not in merged_counter:\n",
    "            merged_counter[key2] = counter2[key2]\n",
    "\n",
    "    # retorne a união dos dois dicionários\n",
    "    return merged_counter\n",
    "\n",
    "\n",
    "add_counters(counter1, counter2)"
   ]
  },
  {
   "cell_type": "code",
   "execution_count": 27,
   "metadata": {},
   "outputs": [
    {
     "data": {
      "text/plain": [
       "{'j': 1, 'o': 2, 'r': 2, 'd': 2, 'a': 3, 'n': 2, 'c': 1, 'l': 1}"
      ]
     },
     "execution_count": 27,
     "metadata": {},
     "output_type": "execute_result"
    }
   ],
   "source": [
    "counter1 = value_counts(\"jordandan\")\n",
    "counter2 = value_counts(\"carol\")\n",
    "\n",
    "def add_counters(counter1, counter2):\n",
    "    merged_counter = dict()\n",
    "    \n",
    "    # copia cada elemento do primeiro dict para merged\n",
    "    for key in counter1:\n",
    "        merged_counter[key] = counter1[key]\n",
    "\n",
    "    # se chave-valor não estiver no merged, adicione-o. Se estiver, some valor\n",
    "    for key in counter2:\n",
    "        merged_counter[key] = merged_counter.get(key, 0) + counter2[key]\n",
    "\n",
    "    # retorne a união dos dois dicionários\n",
    "    return merged_counter\n",
    "\n",
    "\n",
    "add_counters(counter1, counter2)"
   ]
  }
 ],
 "metadata": {
  "kernelspec": {
   "display_name": "Python 3",
   "language": "python",
   "name": "python3"
  },
  "language_info": {
   "codemirror_mode": {
    "name": "ipython",
    "version": 3
   },
   "file_extension": ".py",
   "mimetype": "text/x-python",
   "name": "python",
   "nbconvert_exporter": "python",
   "pygments_lexer": "ipython3",
   "version": "3.12.5"
  }
 },
 "nbformat": 4,
 "nbformat_minor": 2
}
