{
 "cells": [
  {
   "cell_type": "markdown",
   "metadata": {},
   "source": [
    "# Caoítulo 08 - Exercícios"
   ]
  },
  {
   "cell_type": "markdown",
   "metadata": {},
   "source": [
    "Escreva função que faça a mesma coisa que o comando de shell !head do Jupyter Notebook. Deve receber como argumentos o nome do arquivo que será lido, número de linhas que devem ser lidas e o nome do arquivo para onde as linhas serão gravadas. Se o terceiro parâmetro for None, a função deve exibir as linhas ao invés de gravá-las"
   ]
  },
  {
   "cell_type": "code",
   "execution_count": null,
   "metadata": {},
   "outputs": [],
   "source": [
    "def read_head(input_name, n, output_name=None):\n",
    "    # abrir arquivo de onde as linhas serão lidos\n",
    "    reader = open(input_name, 'r')\n",
    "    # se output_name tiver valor armazenado, abra outro arquivo\n",
    "    if output_name:\n",
    "        writer = open(output_name, 'w')\n",
    "    \n",
    "    # leia e escreva ou leia e demonstre ao usuário n linhas\n",
    "    for _ in range(n):\n",
    "        line = reader.readline()\n",
    "        if output_name:\n",
    "            writer.write(line)\n",
    "        else:\n",
    "            print(line, end='')\n",
    "\n",
    "    # feche o arquivo de onde as linhas foram lidas\n",
    "    reader.close()\n",
    "    # feche o arquivo de saída se ele foi aberto\n",
    "    if output_name:\n",
    "        writer.close()"
   ]
  },
  {
   "cell_type": "markdown",
   "metadata": {},
   "source": [
    "Escreva um algoritmo funcione como o jogo Wordle: usuário precisa adivinhar palavra de 5 letras. A função deve checar cada letra que compões a palavra do usuário, verificar se a letra também está presente na palavra-alvo\n",
    "\n",
    "Todas as condições seguintes devem ser informadas para o usuários:\n",
    "- Se a letra estiver na palavra-alvo e na posição certa\n",
    "- Se a letra estiver na palavra-alvo mas na posição errada\n",
    "- Se não estiver na palavra.\n",
    "\n",
    "Usuário tem 6 tentativas para adivinhar a palavra-alvos"
   ]
  },
  {
   "cell_type": "code",
   "execution_count": null,
   "metadata": {},
   "outputs": [],
   "source": [
    "def wordle(guess, target):\n",
    "    \"\"\"\n",
    "    Função que verifica se  a plavavra adivinhada é correta\n",
    "    Se não for certo, verifica se os caracteres estão corretos\n",
    "    Se o caractere for correto, verifica se está na posição certa\n",
    "    \"\"\"\n",
    "    print(guess)\n",
    "    for i in range(len(guess)):\n",
    "        # caractere correta e mas na posição errada\n",
    "        if guess[i] in target and guess[i] != target[i]:\n",
    "            print(\"A\", end='')\n",
    "        # caractere está correta na posição correta\n",
    "        elif guess[i] in target and guess[i] == target[i]:\n",
    "            print(\"V\", end='')\n",
    "        # caractere errado\n",
    "        else:\n",
    "            print(' ', end='')\n",
    "    print()\n",
    "    # usuário acertou a palavra\n",
    "    if target == guess:\n",
    "        return True\n",
    "    \n",
    "    return False"
   ]
  }
 ],
 "metadata": {
  "kernelspec": {
   "display_name": "Python 3",
   "language": "python",
   "name": "python3"
  },
  "language_info": {
   "name": "python",
   "version": "3.12.5"
  }
 },
 "nbformat": 4,
 "nbformat_minor": 2
}
