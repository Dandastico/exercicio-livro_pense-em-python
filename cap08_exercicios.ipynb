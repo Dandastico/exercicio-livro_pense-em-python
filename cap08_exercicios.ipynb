{
 "cells": [
  {
   "cell_type": "markdown",
   "metadata": {},
   "source": [
    "# Caoítulo 08 - Exercícios"
   ]
  },
  {
   "cell_type": "markdown",
   "metadata": {},
   "source": [
    "Escreva função que faça a mesma coisa que o comando de shell !head do Jupyter Notebook. Deve receber como argumentos o nome do arquivo que será lido, número de linhas que devem ser lidas e o nome do arquivo para onde as linhas serão gravadas. Se o terceiro parâmetro for None, a função deve exibir as linhas ao invés de gravá-las"
   ]
  },
  {
   "cell_type": "code",
   "execution_count": null,
   "metadata": {},
   "outputs": [],
   "source": []
  }
 ],
 "metadata": {
  "kernelspec": {
   "display_name": "Python 3",
   "language": "python",
   "name": "python3"
  },
  "language_info": {
   "name": "python",
   "version": "3.12.5"
  }
 },
 "nbformat": 4,
 "nbformat_minor": 2
}
