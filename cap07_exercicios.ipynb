{
 "cells": [
  {
   "cell_type": "markdown",
   "metadata": {},
   "source": [
    "# Capítulo 07 - Exercícios"
   ]
  },
  {
   "cell_type": "markdown",
   "metadata": {},
   "source": [
    "Desenvolva uma função booliana que verica se uma string contém algum dos caracteres proibidos. Se não contém, retorna True; se contém, retorne False"
   ]
  },
  {
   "cell_type": "code",
   "execution_count": null,
   "metadata": {},
   "outputs": [],
   "source": [
    "def uses_none(s, lista):\n",
    "    \"\"\"\n",
    "    Verifica se palavra contém letra proibida\n",
    "    >>> uses_none(\"Daniel\", \"aeiou\")\n",
    "    False\n",
    "    >>> uses_none(\"Daniel\", \"xyz\")\n",
    "    True\n",
    "    \"\"\"\n",
    "    for char in s:\n",
    "        if char in lista:\n",
    "            return False\n",
    "    return True\n",
    "\n",
    "\n",
    "lista = \"zxm\"\n",
    "word = \"Daniel\".lower()\n",
    "uses_none(word, lista)"
   ]
  },
  {
   "cell_type": "markdown",
   "metadata": {},
   "source": [
    "Desenvolva função que retorna True se string utilizar apenas caracteres de uma lista, retorna False se utilizar além das caracteres permitidas"
   ]
  },
  {
   "cell_type": "code",
   "execution_count": null,
   "metadata": {},
   "outputs": [],
   "source": [
    "def uses_only(s, lista):\n",
    "    \"\"\"\n",
    "    Função que retorna False se char da palavra não estiver na\n",
    "    lista permitida, retorna True se todas estiverem na lista\n",
    "    >>> uses_only(\"banana\", \"ban\")\n",
    "    True\n",
    "    >>> uses_only(\"daniel\", \"ban\")\n",
    "    False\n",
    "    \"\"\"\n",
    "    for char in s:\n",
    "        if char not in lista:\n",
    "            return False\n",
    "    return True\n",
    "\n",
    "\n",
    "lista = \"ban\"\n",
    "word = \"banana\".lower()\n",
    "uses_only(word, lista)"
   ]
  },
  {
   "cell_type": "markdown",
   "metadata": {},
   "source": [
    "Desenvolva função que retorne True se todos os caracteres da lista foram utilizados pelo menos uma vez, ao contrário retorne False"
   ]
  },
  {
   "cell_type": "code",
   "execution_count": null,
   "metadata": {},
   "outputs": [],
   "source": [
    "def uses_all(s, required):\n",
    "    \"\"\"\n",
    "    Função verifica se todas as letras da lista obrigatória\n",
    "    foram utilizadas pelo menos uma vez na string\n",
    "    >>> uses_all(\"banana\", \"ban\")\n",
    "    True\n",
    "    >>> uses_all(\"banana\", \"bans\")\n",
    "    False\n",
    "    >>> uses_all(\"carcara\", \"car\")\n",
    "    True\n",
    "    >>> uses_all(\"carcara\", \"ca\")\n",
    "    False\n",
    "    \"\"\"\n",
    "    for item in required:\n",
    "        if item not in s:\n",
    "            return False\n",
    "    return True\n",
    "\n",
    "\n",
    "word = \"banana\".lower()\n",
    "lista= \"ban\"\n",
    "uses_all(word, lista)"
   ]
  },
  {
   "cell_type": "markdown",
   "metadata": {},
   "source": [
    "\"Spelling Bee\" é um atividade de New Your Times em que quem participa do desafio precisa escrever o maior número possível de palavras que são formadas com os caracteres propostos pelo jornal, com um dos caracteres sendo um requerimento obrigatório para a palavra ser válida. As palavras formadas devem ter, pelo menos, 4 letras\n",
    "\n",
    "A pontuação das palavras compostas é feita da seguinte maneira: palavras com 4 letras vale 1 ponto, palavras com acima de 4 letras ganha 1 ponto a mais para cada letra adicional. Palavras que utilizam todos as letras propostas valem 7 pontos\n",
    "\n",
    "Desevolva uma função que verifique se a palavra segue todos os requisitos do primeiro parágrafo e uma função que contabilize os pontos que a palavra vale"
   ]
  },
  {
   "cell_type": "code",
   "execution_count": null,
   "metadata": {},
   "outputs": [],
   "source": [
    "def check_word(s, available, required):\n",
    "    \"\"\"\n",
    "    Verifica se a palavra proposta pelo usuário é válida\n",
    "    >>> check_word(\"bananas\", \"bans\", 's')\n",
    "    True\n",
    "    >>> check_word(\"bulbassaur\", \"bulasrzx\", 'b')\n",
    "    True\n",
    "    >>> check_word(\"bulbassaur\", \"bulasrzx\", 'z')\n",
    "    False\n",
    "    >>> check_word(\"pen\", \"penzasw\", 'p')\n",
    "    False\n",
    "    \"\"\"\n",
    "    # se palavra digittada não tiver 4 dígitos, retorne False\n",
    "    if len(s) < 4:\n",
    "        return False\n",
    "    # verificar se o caracter obrigatório está presente na palavra\n",
    "    if required not in s:\n",
    "        return False\n",
    "    # verificar se toda letra da palavra está na lista permitida de caracteres\n",
    "    for char in s:\n",
    "        # verifique se caractere na string está na proposta pelo exercício\n",
    "        if char not in available:\n",
    "            return False\n",
    "    # parabéns, você sobreviveu até aqui! Então tu é True\n",
    "    return True\n",
    "        \n",
    "\n",
    "def word_score(s, available):\n",
    "    \"\"\"\n",
    "    Função conta quantos pontos vale a palavra\n",
    "    - Quatro letras vale 1 ponto\n",
    "    - 1 ponto adicional para cada letra acima de 4 letras\n",
    "    - Cada 'pangrama' vale a pontuação descrita acima + 7\n",
    "    >>> word_score(\"baco\", \"barcosa\")\n",
    "    1\n",
    "    >>> word_score(\"barco\", \"barcosa\")\n",
    "    5\n",
    "    >>> word_score(\"cartload\", \"acdlort\")\n",
    "    15\n",
    "    \"\"\"\n",
    "    if len(s) == 4:\n",
    "        return 1\n",
    "    # se algum caractere da list não estiver em s, não adicione o bônus de 7\n",
    "    for char in available:\n",
    "        if char not in s:\n",
    "            return len(s)\n",
    "    return len(s) + 7"
   ]
  }
 ],
 "metadata": {
  "language_info": {
   "name": "python"
  }
 },
 "nbformat": 4,
 "nbformat_minor": 2
}
