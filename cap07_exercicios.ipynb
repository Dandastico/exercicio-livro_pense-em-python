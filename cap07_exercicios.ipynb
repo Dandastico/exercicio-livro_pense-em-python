{
 "cells": [
  {
   "cell_type": "markdown",
   "metadata": {},
   "source": [
    "# Capítulo 07 - Exercícios"
   ]
  },
  {
   "cell_type": "markdown",
   "metadata": {},
   "source": [
    "Desenvolva uma função booliana que verica se uma string contém algum dos caracteres proibidos. Se não contém, retorna True; se contém, retorne False"
   ]
  },
  {
   "cell_type": "code",
   "execution_count": null,
   "metadata": {},
   "outputs": [
    {
     "data": {
      "text/plain": [
       "False"
      ]
     },
     "execution_count": 24,
     "metadata": {},
     "output_type": "execute_result"
    }
   ],
   "source": [
    "def uses_none(s, lista):\n",
    "    \"\"\"\n",
    "    Verifica se palavra contém letra proibida\n",
    "    >>> uses_none(\"Daniel\", \"aeiou\")\n",
    "    False\n",
    "    >>> uses_none(\"Daniel\", \"xyz\")\n",
    "    True\n",
    "    \"\"\"\n",
    "    for char in s:\n",
    "        if char in lista:\n",
    "            return False\n",
    "    return True\n",
    "\n",
    "\n",
    "lista = \"zxm\"\n",
    "word = \"Daniel\".lower()\n",
    "uses_none(word, lista)"
   ]
  }
 ],
 "metadata": {
  "language_info": {
   "name": "python"
  }
 },
 "nbformat": 4,
 "nbformat_minor": 2
}
