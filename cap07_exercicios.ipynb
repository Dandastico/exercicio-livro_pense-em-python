{
 "cells": [
  {
   "cell_type": "markdown",
   "metadata": {},
   "source": [
    "# Capítulo 07 - Exercícios"
   ]
  },
  {
   "cell_type": "markdown",
   "metadata": {},
   "source": [
    "Desenvolva uma função booliana que verica se uma string contém algum dos caracteres proibidos. Se não contém, retorna True; se contém, retorne False"
   ]
  },
  {
   "cell_type": "code",
   "execution_count": null,
   "metadata": {},
   "outputs": [],
   "source": [
    "def uses_none(s, lista):\n",
    "    \"\"\"\n",
    "    Verifica se palavra contém letra proibida\n",
    "    >>> uses_none(\"Daniel\", \"aeiou\")\n",
    "    False\n",
    "    >>> uses_none(\"Daniel\", \"xyz\")\n",
    "    True\n",
    "    \"\"\"\n",
    "    for char in s:\n",
    "        if char in lista:\n",
    "            return False\n",
    "    return True\n",
    "\n",
    "\n",
    "lista = \"zxm\"\n",
    "word = \"Daniel\".lower()\n",
    "uses_none(word, lista)"
   ]
  },
  {
   "cell_type": "markdown",
   "metadata": {},
   "source": [
    "Desenvolva função que retorna True se string utilizar apenas caracteres de uma lista, retorna False se utilizar além das caracteres permitidas"
   ]
  },
  {
   "cell_type": "code",
   "execution_count": null,
   "metadata": {},
   "outputs": [
    {
     "data": {
      "text/plain": [
       "False"
      ]
     },
     "execution_count": 26,
     "metadata": {},
     "output_type": "execute_result"
    }
   ],
   "source": [
    "def uses_only(s, lista):\n",
    "    \"\"\"\n",
    "    Função que retorna False se char da palavra não estiver na\n",
    "    lista permitida, retorna True se todas estiverem na lista\n",
    "    >>> uses_only(\"banana\", \"ban\")\n",
    "    True\n",
    "    >>> uses_only(\"daniel\", \"ban\")\n",
    "    False\n",
    "    \"\"\"\n",
    "    for char in s:\n",
    "        if char not in lista:\n",
    "            return False\n",
    "    return True\n",
    "\n",
    "\n",
    "lista = \"ban\"\n",
    "word = \"banana\".lower()\n",
    "uses_only(word, lista)"
   ]
  }
 ],
 "metadata": {
  "language_info": {
   "name": "python"
  }
 },
 "nbformat": 4,
 "nbformat_minor": 2
}
