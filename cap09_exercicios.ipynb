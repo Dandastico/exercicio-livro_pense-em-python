{
 "cells": [
  {
   "cell_type": "markdown",
   "metadata": {},
   "source": [
    "# Capítulo 09 - Exercícios"
   ]
  },
  {
   "cell_type": "markdown",
   "metadata": {},
   "source": [
    "Criar função booliana \"is_anagram\" que verifica se uma string é anagrama da palavra \"takes\"."
   ]
  },
  {
   "cell_type": "code",
   "execution_count": 2,
   "metadata": {},
   "outputs": [
    {
     "data": {
      "text/plain": [
       "True"
      ]
     },
     "execution_count": 2,
     "metadata": {},
     "output_type": "execute_result"
    }
   ],
   "source": [
    "def is_anagram(s, target):\n",
    "    '''\n",
    "    Função recebe duas sttrings: a tentativa de anagrama e\n",
    "    o verificador do anagrama. Ao ordenar as strings, todos\n",
    "    os caracteres ficam em ordem alfabética.\n",
    "\n",
    "    Se os dois strings ao serem ordenados forem iguais, é anagrama\n",
    "\n",
    "    >>> is_anagram(\"skate\", \"takes\")\n",
    "    True\n",
    "    >>> is_anagram(\"basket\", \"takes\")\n",
    "    False\n",
    "    '''\n",
    "    # transform a string in a list of characters\n",
    "    s = list(s)\n",
    "    target = list(target)\n",
    "    # sort the list of characters\n",
    "    sorted_s = s.sort()\n",
    "    sorted_target = target.sort()\n",
    "    # the same list, than return True\n",
    "    if sorted_s == sorted_target:\n",
    "        return True\n",
    "    return False\n",
    "\n",
    "\n",
    "anagrams = []\n",
    "s = \"stake\"\n",
    "target = \"takes\"\n",
    "if is_anagram(s, target):\n",
    "    anagrams.append(s)\n",
    "\n",
    "print(anagrams)"
   ]
  }
 ],
 "metadata": {
  "kernelspec": {
   "display_name": "base",
   "language": "python",
   "name": "python3"
  },
  "language_info": {
   "codemirror_mode": {
    "name": "ipython",
    "version": 3
   },
   "file_extension": ".py",
   "mimetype": "text/x-python",
   "name": "python",
   "nbconvert_exporter": "python",
   "pygments_lexer": "ipython3",
   "version": "3.12.7"
  }
 },
 "nbformat": 4,
 "nbformat_minor": 2
}
