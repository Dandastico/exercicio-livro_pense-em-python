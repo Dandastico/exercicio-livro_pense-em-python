{
 "cells": [
  {
   "cell_type": "markdown",
   "metadata": {},
   "source": [
    "# Capítulo 09 - Exercícios"
   ]
  },
  {
   "cell_type": "markdown",
   "metadata": {},
   "source": [
    "Criar função booliana \"is_anagram\" que verifica se uma string é anagrama da palavra \"takes\"."
   ]
  },
  {
   "cell_type": "code",
   "execution_count": 6,
   "metadata": {},
   "outputs": [
    {
     "name": "stdout",
     "output_type": "stream",
     "text": [
      "['stake']\n"
     ]
    }
   ],
   "source": [
    "def is_anagram(s, target):\n",
    "    '''\n",
    "    Função recebe duas sttrings: a tentativa de anagrama e\n",
    "    o verificador do anagrama. Ao ordenar as strings, todos\n",
    "    os caracteres ficam em ordem alfabética.\n",
    "\n",
    "    Se os dois strings ao serem ordenados forem iguais, é anagrama\n",
    "\n",
    "    >>> is_anagram(\"skate\", \"takes\")\n",
    "    True\n",
    "    >>> is_anagram(\"basket\", \"takes\")\n",
    "    False\n",
    "    '''\n",
    "    # transform a string in a list of characters\n",
    "    s = list(s)\n",
    "    target = list(target)\n",
    "    # sort the list of characters\n",
    "    sorted_s = s.sort()\n",
    "    sorted_target = target.sort()\n",
    "    # the same list, than return True\n",
    "    if sorted_s == sorted_target:\n",
    "        return True\n",
    "    return False\n",
    "\n",
    "\n",
    "anagrams = []\n",
    "s = \"stake\"\n",
    "target = \"takes\"\n",
    "if is_anagram(s, target):\n",
    "    anagrams.append(s)\n",
    "\n",
    "print(anagrams)"
   ]
  },
  {
   "cell_type": "markdown",
   "metadata": {},
   "source": [
    "Crie uma função que recebe com um parâmetro chamdo is_palindrome que retorna True se a palavra é um panidromo. Se a palavra tiver 7 caracteres e for panidromo, imprima a palavra na tela"
   ]
  },
  {
   "cell_type": "code",
   "execution_count": null,
   "metadata": {},
   "outputs": [],
   "source": [
    "words = [\n",
    "    \"racecar\",\n",
    "    \"repaper\",\n",
    "    \"hannah\",\n",
    "    \"deified\",\n",
    "    \"reviver\",\n",
    "    \"rotator\",\n",
    "    \"redivider\",\n",
    "    \"dressed\"\n",
    "    ]\n",
    "\n",
    "\n",
    "def is_panindrome(s):\n",
    "    # reflete a string, trasnforma tudo em letras minúsculas\n",
    "    reversed_s = ''.join(reversed(s)).lower()\n",
    "    # se a string revertida for igual ao do parâmetro, True\n",
    "    if reversed_s == s:\n",
    "        return True\n",
    "    return False\n",
    "\n",
    "\n",
    "for word in words:\n",
    "    if len(word) >= 7 and is_panindrome(word):\n",
    "        print(word)"
   ]
  },
  {
   "cell_type": "markdown",
   "metadata": {},
   "source": [
    "Escreva uma função chamada total_length que retorne o comprimento total dessas strings"
   ]
  },
  {
   "cell_type": "code",
   "execution_count": null,
   "metadata": {},
   "outputs": [],
   "source": [
    "lst = [\"Daniel\", \"Ferreira\", \"Alves\"]\n",
    "\n",
    "def total_length(lst):\n",
    "    count = 0\n",
    "    joined_str = ''.join(lst)\n",
    "    for char in joined_str:\n",
    "        count += 1\n",
    "    return count\n",
    "\n",
    "\n",
    "total_length(lst)"
   ]
  }
 ],
 "metadata": {
  "kernelspec": {
   "display_name": "Python 3",
   "language": "python",
   "name": "python3"
  },
  "language_info": {
   "codemirror_mode": {
    "name": "ipython",
    "version": 3
   },
   "file_extension": ".py",
   "mimetype": "text/x-python",
   "name": "python",
   "nbconvert_exporter": "python",
   "pygments_lexer": "ipython3",
   "version": "3.12.5"
  }
 },
 "nbformat": 4,
 "nbformat_minor": 2
}
